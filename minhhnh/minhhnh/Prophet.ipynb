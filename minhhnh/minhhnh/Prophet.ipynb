{
 "cells": [
  {
   "cell_type": "code",
   "execution_count": 1,
   "metadata": {},
   "outputs": [],
   "source": [
    "import pandas as pd\n",
    "from sklearn.experimental import enable_iterative_imputer\n",
    "from sklearn.impute import IterativeImputer\n",
    "from sklearn.ensemble import ExtraTreesRegressor"
   ]
  },
  {
   "cell_type": "code",
   "execution_count": 2,
   "metadata": {},
   "outputs": [
    {
     "data": {
      "text/plain": [
       "device_id              0\n",
       "timestamp              0\n",
       "lat_long               0\n",
       "value                  0\n",
       "pv_output          51572\n",
       "solar_radiation    51572\n",
       "temperature        51575\n",
       "Precip             44963\n",
       "humidity           44963\n",
       "day_of_week            0\n",
       "working_day            0\n",
       "week_of_month          0\n",
       "holiday                0\n",
       "dtype: int64"
      ]
     },
     "execution_count": 2,
     "metadata": {},
     "output_type": "execute_result"
    }
   ],
   "source": [
    "df = pd.read_csv('data/full_features.csv')\n",
    "data = df.copy()\n",
    "df.isna().sum()"
   ]
  },
  {
   "cell_type": "code",
   "execution_count": 3,
   "metadata": {},
   "outputs": [],
   "source": [
    "poweru_df = data[data['device_id'] == 'poweru']\n",
    "poweru_df = poweru_df.drop(['device_id'], axis = 1)\n",
    "poweru_df"
   ]
  },
  {
   "cell_type": "code",
   "execution_count": 9,
   "metadata": {},
   "outputs": [
    {
     "data": {
      "text/plain": [
       "timestamp          0\n",
       "lat_long           0\n",
       "value              0\n",
       "pv_output          0\n",
       "solar_radiation    0\n",
       "temperature        0\n",
       "Precip             0\n",
       "humidity           0\n",
       "day_of_week        0\n",
       "working_day        0\n",
       "week_of_month      0\n",
       "holiday            0\n",
       "dtype: int64"
      ]
     },
     "execution_count": 9,
     "metadata": {},
     "output_type": "execute_result"
    }
   ],
   "source": [
    "poweru_df.isna().sum()"
   ]
  },
  {
   "cell_type": "code",
   "execution_count": 5,
   "metadata": {},
   "outputs": [
    {
     "data": {
      "text/plain": [
       "Index(['timestamp', 'lat_long', 'value', 'pv_output', 'solar_radiation',\n",
       "       'temperature', 'Precip', 'humidity', 'day_of_week', 'working_day',\n",
       "       'week_of_month', 'holiday'],\n",
       "      dtype='object')"
      ]
     },
     "execution_count": 5,
     "metadata": {},
     "output_type": "execute_result"
    }
   ],
   "source": [
    "poweru_df.columns"
   ]
  },
  {
   "cell_type": "code",
   "execution_count": 6,
   "metadata": {},
   "outputs": [
    {
     "name": "stderr",
     "output_type": "stream",
     "text": [
      "c:\\Users\\PC\\AppData\\Local\\Programs\\Python\\Python38\\lib\\site-packages\\sklearn\\impute\\_iterative.py:699: ConvergenceWarning: [IterativeImputer] Early stopping criterion not reached.\n",
      "  warnings.warn(\n"
     ]
    },
    {
     "data": {
      "text/plain": [
       "IterativeImputer(estimator=ExtraTreesRegressor(), random_state=0)"
      ]
     },
     "execution_count": 6,
     "metadata": {},
     "output_type": "execute_result"
    }
   ],
   "source": [
    "imp = IterativeImputer(estimator=ExtraTreesRegressor(), random_state = 0)\n",
    "missing_column = ['pv_output', 'solar_radiation','temperature', 'Precip', 'humidity']\n",
    "imp.fit(poweru_df[missing_column])"
   ]
  },
  {
   "cell_type": "code",
   "execution_count": 7,
   "metadata": {},
   "outputs": [],
   "source": [
    "poweru_df[missing_column] = imp.transform(poweru_df[missing_column])"
   ]
  },
  {
   "cell_type": "code",
   "execution_count": 8,
   "metadata": {},
   "outputs": [
    {
     "data": {
      "text/html": [
       "<div>\n",
       "<style scoped>\n",
       "    .dataframe tbody tr th:only-of-type {\n",
       "        vertical-align: middle;\n",
       "    }\n",
       "\n",
       "    .dataframe tbody tr th {\n",
       "        vertical-align: top;\n",
       "    }\n",
       "\n",
       "    .dataframe thead th {\n",
       "        text-align: right;\n",
       "    }\n",
       "</style>\n",
       "<table border=\"1\" class=\"dataframe\">\n",
       "  <thead>\n",
       "    <tr style=\"text-align: right;\">\n",
       "      <th></th>\n",
       "      <th>timestamp</th>\n",
       "      <th>lat_long</th>\n",
       "      <th>value</th>\n",
       "      <th>pv_output</th>\n",
       "      <th>solar_radiation</th>\n",
       "      <th>temperature</th>\n",
       "      <th>Precip</th>\n",
       "      <th>humidity</th>\n",
       "      <th>day_of_week</th>\n",
       "      <th>working_day</th>\n",
       "      <th>week_of_month</th>\n",
       "      <th>holiday</th>\n",
       "    </tr>\n",
       "  </thead>\n",
       "  <tbody>\n",
       "    <tr>\n",
       "      <th>61286</th>\n",
       "      <td>2021-10-04 15:17:15</td>\n",
       "      <td>34.7037561598_137.3584203017</td>\n",
       "      <td>530.5</td>\n",
       "      <td>16.780841</td>\n",
       "      <td>191.315476</td>\n",
       "      <td>11.397489</td>\n",
       "      <td>0.021709</td>\n",
       "      <td>67.939872</td>\n",
       "      <td>0</td>\n",
       "      <td>1</td>\n",
       "      <td>1</td>\n",
       "      <td>0</td>\n",
       "    </tr>\n",
       "    <tr>\n",
       "      <th>61287</th>\n",
       "      <td>2021-10-04 15:19:37</td>\n",
       "      <td>34.7037561598_137.3584203017</td>\n",
       "      <td>543.0</td>\n",
       "      <td>16.780841</td>\n",
       "      <td>191.315476</td>\n",
       "      <td>11.397489</td>\n",
       "      <td>0.021709</td>\n",
       "      <td>67.939872</td>\n",
       "      <td>0</td>\n",
       "      <td>1</td>\n",
       "      <td>1</td>\n",
       "      <td>0</td>\n",
       "    </tr>\n",
       "    <tr>\n",
       "      <th>61288</th>\n",
       "      <td>2021-10-04 15:29:38</td>\n",
       "      <td>34.7037561598_137.3584203017</td>\n",
       "      <td>520.7</td>\n",
       "      <td>16.780841</td>\n",
       "      <td>191.315476</td>\n",
       "      <td>11.397489</td>\n",
       "      <td>0.021709</td>\n",
       "      <td>67.939872</td>\n",
       "      <td>0</td>\n",
       "      <td>1</td>\n",
       "      <td>1</td>\n",
       "      <td>0</td>\n",
       "    </tr>\n",
       "    <tr>\n",
       "      <th>61289</th>\n",
       "      <td>2021-10-04 15:31:33</td>\n",
       "      <td>34.7037561598_137.3584203017</td>\n",
       "      <td>520.7</td>\n",
       "      <td>16.780841</td>\n",
       "      <td>191.315476</td>\n",
       "      <td>11.397489</td>\n",
       "      <td>0.021709</td>\n",
       "      <td>67.939872</td>\n",
       "      <td>0</td>\n",
       "      <td>1</td>\n",
       "      <td>1</td>\n",
       "      <td>0</td>\n",
       "    </tr>\n",
       "    <tr>\n",
       "      <th>61290</th>\n",
       "      <td>2021-10-04 15:39:38</td>\n",
       "      <td>34.7037561598_137.3584203017</td>\n",
       "      <td>491.5</td>\n",
       "      <td>16.780841</td>\n",
       "      <td>191.315476</td>\n",
       "      <td>11.397489</td>\n",
       "      <td>0.021709</td>\n",
       "      <td>67.939872</td>\n",
       "      <td>0</td>\n",
       "      <td>1</td>\n",
       "      <td>1</td>\n",
       "      <td>0</td>\n",
       "    </tr>\n",
       "    <tr>\n",
       "      <th>...</th>\n",
       "      <td>...</td>\n",
       "      <td>...</td>\n",
       "      <td>...</td>\n",
       "      <td>...</td>\n",
       "      <td>...</td>\n",
       "      <td>...</td>\n",
       "      <td>...</td>\n",
       "      <td>...</td>\n",
       "      <td>...</td>\n",
       "      <td>...</td>\n",
       "      <td>...</td>\n",
       "      <td>...</td>\n",
       "    </tr>\n",
       "    <tr>\n",
       "      <th>87835</th>\n",
       "      <td>2022-04-17 23:18:50</td>\n",
       "      <td>34.7037561598_137.3584203017</td>\n",
       "      <td>194.3</td>\n",
       "      <td>0.000000</td>\n",
       "      <td>0.000000</td>\n",
       "      <td>13.560000</td>\n",
       "      <td>0.038462</td>\n",
       "      <td>84.923077</td>\n",
       "      <td>6</td>\n",
       "      <td>0</td>\n",
       "      <td>3</td>\n",
       "      <td>0</td>\n",
       "    </tr>\n",
       "    <tr>\n",
       "      <th>87836</th>\n",
       "      <td>2022-04-17 23:28:50</td>\n",
       "      <td>34.7037561598_137.3584203017</td>\n",
       "      <td>181.8</td>\n",
       "      <td>0.000000</td>\n",
       "      <td>0.000000</td>\n",
       "      <td>13.560000</td>\n",
       "      <td>0.038462</td>\n",
       "      <td>84.923077</td>\n",
       "      <td>6</td>\n",
       "      <td>0</td>\n",
       "      <td>3</td>\n",
       "      <td>0</td>\n",
       "    </tr>\n",
       "    <tr>\n",
       "      <th>87837</th>\n",
       "      <td>2022-04-17 23:38:50</td>\n",
       "      <td>34.7037561598_137.3584203017</td>\n",
       "      <td>209.7</td>\n",
       "      <td>0.000000</td>\n",
       "      <td>0.000000</td>\n",
       "      <td>13.560000</td>\n",
       "      <td>0.038462</td>\n",
       "      <td>84.923077</td>\n",
       "      <td>6</td>\n",
       "      <td>0</td>\n",
       "      <td>3</td>\n",
       "      <td>0</td>\n",
       "    </tr>\n",
       "    <tr>\n",
       "      <th>87838</th>\n",
       "      <td>2022-04-17 23:48:50</td>\n",
       "      <td>34.7037561598_137.3584203017</td>\n",
       "      <td>209.7</td>\n",
       "      <td>0.000000</td>\n",
       "      <td>0.000000</td>\n",
       "      <td>13.560000</td>\n",
       "      <td>0.038462</td>\n",
       "      <td>84.923077</td>\n",
       "      <td>6</td>\n",
       "      <td>0</td>\n",
       "      <td>3</td>\n",
       "      <td>0</td>\n",
       "    </tr>\n",
       "    <tr>\n",
       "      <th>87839</th>\n",
       "      <td>2022-04-17 23:58:50</td>\n",
       "      <td>34.7037561598_137.3584203017</td>\n",
       "      <td>209.7</td>\n",
       "      <td>0.000000</td>\n",
       "      <td>0.000000</td>\n",
       "      <td>13.560000</td>\n",
       "      <td>0.038462</td>\n",
       "      <td>84.923077</td>\n",
       "      <td>6</td>\n",
       "      <td>0</td>\n",
       "      <td>3</td>\n",
       "      <td>0</td>\n",
       "    </tr>\n",
       "  </tbody>\n",
       "</table>\n",
       "<p>26554 rows × 12 columns</p>\n",
       "</div>"
      ],
      "text/plain": [
       "                 timestamp                      lat_long  value  pv_output  \\\n",
       "61286  2021-10-04 15:17:15  34.7037561598_137.3584203017  530.5  16.780841   \n",
       "61287  2021-10-04 15:19:37  34.7037561598_137.3584203017  543.0  16.780841   \n",
       "61288  2021-10-04 15:29:38  34.7037561598_137.3584203017  520.7  16.780841   \n",
       "61289  2021-10-04 15:31:33  34.7037561598_137.3584203017  520.7  16.780841   \n",
       "61290  2021-10-04 15:39:38  34.7037561598_137.3584203017  491.5  16.780841   \n",
       "...                    ...                           ...    ...        ...   \n",
       "87835  2022-04-17 23:18:50  34.7037561598_137.3584203017  194.3   0.000000   \n",
       "87836  2022-04-17 23:28:50  34.7037561598_137.3584203017  181.8   0.000000   \n",
       "87837  2022-04-17 23:38:50  34.7037561598_137.3584203017  209.7   0.000000   \n",
       "87838  2022-04-17 23:48:50  34.7037561598_137.3584203017  209.7   0.000000   \n",
       "87839  2022-04-17 23:58:50  34.7037561598_137.3584203017  209.7   0.000000   \n",
       "\n",
       "       solar_radiation  temperature    Precip   humidity  day_of_week  \\\n",
       "61286       191.315476    11.397489  0.021709  67.939872            0   \n",
       "61287       191.315476    11.397489  0.021709  67.939872            0   \n",
       "61288       191.315476    11.397489  0.021709  67.939872            0   \n",
       "61289       191.315476    11.397489  0.021709  67.939872            0   \n",
       "61290       191.315476    11.397489  0.021709  67.939872            0   \n",
       "...                ...          ...       ...        ...          ...   \n",
       "87835         0.000000    13.560000  0.038462  84.923077            6   \n",
       "87836         0.000000    13.560000  0.038462  84.923077            6   \n",
       "87837         0.000000    13.560000  0.038462  84.923077            6   \n",
       "87838         0.000000    13.560000  0.038462  84.923077            6   \n",
       "87839         0.000000    13.560000  0.038462  84.923077            6   \n",
       "\n",
       "       working_day  week_of_month  holiday  \n",
       "61286            1              1        0  \n",
       "61287            1              1        0  \n",
       "61288            1              1        0  \n",
       "61289            1              1        0  \n",
       "61290            1              1        0  \n",
       "...            ...            ...      ...  \n",
       "87835            0              3        0  \n",
       "87836            0              3        0  \n",
       "87837            0              3        0  \n",
       "87838            0              3        0  \n",
       "87839            0              3        0  \n",
       "\n",
       "[26554 rows x 12 columns]"
      ]
     },
     "execution_count": 8,
     "metadata": {},
     "output_type": "execute_result"
    }
   ],
   "source": [
    "poweru_df"
   ]
  }
 ],
 "metadata": {
  "kernelspec": {
   "display_name": "Python 3.8.10 64-bit",
   "language": "python",
   "name": "python3"
  },
  "language_info": {
   "codemirror_mode": {
    "name": "ipython",
    "version": 3
   },
   "file_extension": ".py",
   "mimetype": "text/x-python",
   "name": "python",
   "nbconvert_exporter": "python",
   "pygments_lexer": "ipython3",
   "version": "3.8.10"
  },
  "orig_nbformat": 4,
  "vscode": {
   "interpreter": {
    "hash": "3c040059c337deb504f19c673fdcf9a2751b584394b1f9883eb09580a791bf0c"
   }
  }
 },
 "nbformat": 4,
 "nbformat_minor": 2
}
