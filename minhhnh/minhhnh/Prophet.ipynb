{
 "cells": [
  {
   "cell_type": "code",
   "execution_count": 1,
   "metadata": {},
   "outputs": [],
   "source": [
    "from sklearn import metrics\n",
    "from sklearn.experimental import enable_iterative_imputer\n",
    "from sklearn.impute import IterativeImputer\n",
    "from sklearn.ensemble import ExtraTreesRegressor\n",
    "import pandas as pd\n",
    "from prophet import Prophet\n",
    "from prophet.diagnostics import cross_validation\n"
   ]
  },
  {
   "cell_type": "code",
   "execution_count": 15,
   "metadata": {},
   "outputs": [],
   "source": [
    "class Dataset:\n",
    "    def __init__(self, filename):\n",
    "        self.data = pd.read_csv(filename)\n",
    "        self.data[\"timestamp\"] = pd.to_datetime(\n",
    "            self.data[\"timestamp\"], format=\"%Y/%m/%d %H:%M:%S\"\n",
    "        )\n",
    "\n",
    "    def fill_na(self, df):\n",
    "        imp = IterativeImputer(estimator=ExtraTreesRegressor(), random_state=0)\n",
    "        cant_fill = [\"timestamp\", \"value\"]\n",
    "        can_fill = [i for i in df.columns if i not in cant_fill]\n",
    "        imp.fit(df[can_fill])\n",
    "        df[can_fill] = imp.transform(df[can_fill])\n",
    "        return df\n",
    "\n",
    "    def __getitem__(self, device_id):\n",
    "        df = self.data[self.data[\"device_id\"] == device_id]\n",
    "        df = df.drop([\"device_id\", \"lat_long\", \"holiday\"], axis=1)\n",
    "        return self.fill_na(df)\n",
    "\n",
    "    def split(self, df, forecast_days):\n",
    "        train_size = len(df) - forecast_days * 24 * 6\n",
    "        df.columns = [\"ds\", \"y\"] + list(df.columns[2:])\n",
    "        train_data = df[:train_size]\n",
    "        x, y = df.drop([\"y\"], axis=1), pd.DataFrame(df.iloc[train_size:, 1])\n",
    "        return train_data, x[train_size:], y\n"
   ]
  },
  {
   "cell_type": "code",
   "execution_count": 16,
   "metadata": {},
   "outputs": [
    {
     "name": "stderr",
     "output_type": "stream",
     "text": [
      "/home/minhhnh/BAP-intern/feature-engineering/minhhnh/.venv/lib/python3.8/site-packages/sklearn/impute/_iterative.py:700: ConvergenceWarning: [IterativeImputer] Early stopping criterion not reached.\n",
      "  warnings.warn(\n"
     ]
    },
    {
     "data": {
      "text/html": [
       "<div>\n",
       "<style scoped>\n",
       "    .dataframe tbody tr th:only-of-type {\n",
       "        vertical-align: middle;\n",
       "    }\n",
       "\n",
       "    .dataframe tbody tr th {\n",
       "        vertical-align: top;\n",
       "    }\n",
       "\n",
       "    .dataframe thead th {\n",
       "        text-align: right;\n",
       "    }\n",
       "</style>\n",
       "<table border=\"1\" class=\"dataframe\">\n",
       "  <thead>\n",
       "    <tr style=\"text-align: right;\">\n",
       "      <th></th>\n",
       "      <th>timestamp</th>\n",
       "      <th>value</th>\n",
       "      <th>pv_output</th>\n",
       "      <th>solar_radiation</th>\n",
       "      <th>temperature</th>\n",
       "      <th>Precip</th>\n",
       "      <th>humidity</th>\n",
       "      <th>day_of_week</th>\n",
       "      <th>working_day</th>\n",
       "      <th>week_of_month</th>\n",
       "    </tr>\n",
       "  </thead>\n",
       "  <tbody>\n",
       "    <tr>\n",
       "      <th>61286</th>\n",
       "      <td>2021-10-04 15:17:15</td>\n",
       "      <td>530.5</td>\n",
       "      <td>16.403339</td>\n",
       "      <td>187.828227</td>\n",
       "      <td>13.982297</td>\n",
       "      <td>0.069066</td>\n",
       "      <td>74.493700</td>\n",
       "      <td>0.0</td>\n",
       "      <td>1.0</td>\n",
       "      <td>1.0</td>\n",
       "    </tr>\n",
       "    <tr>\n",
       "      <th>61287</th>\n",
       "      <td>2021-10-04 15:19:37</td>\n",
       "      <td>543.0</td>\n",
       "      <td>16.403339</td>\n",
       "      <td>187.828227</td>\n",
       "      <td>13.982297</td>\n",
       "      <td>0.069066</td>\n",
       "      <td>74.493700</td>\n",
       "      <td>0.0</td>\n",
       "      <td>1.0</td>\n",
       "      <td>1.0</td>\n",
       "    </tr>\n",
       "    <tr>\n",
       "      <th>61288</th>\n",
       "      <td>2021-10-04 15:29:38</td>\n",
       "      <td>520.7</td>\n",
       "      <td>16.403339</td>\n",
       "      <td>187.828227</td>\n",
       "      <td>13.982297</td>\n",
       "      <td>0.069066</td>\n",
       "      <td>74.493700</td>\n",
       "      <td>0.0</td>\n",
       "      <td>1.0</td>\n",
       "      <td>1.0</td>\n",
       "    </tr>\n",
       "    <tr>\n",
       "      <th>61289</th>\n",
       "      <td>2021-10-04 15:31:33</td>\n",
       "      <td>520.7</td>\n",
       "      <td>16.403339</td>\n",
       "      <td>187.828227</td>\n",
       "      <td>13.982297</td>\n",
       "      <td>0.069066</td>\n",
       "      <td>74.493700</td>\n",
       "      <td>0.0</td>\n",
       "      <td>1.0</td>\n",
       "      <td>1.0</td>\n",
       "    </tr>\n",
       "    <tr>\n",
       "      <th>61290</th>\n",
       "      <td>2021-10-04 15:39:38</td>\n",
       "      <td>491.5</td>\n",
       "      <td>16.403339</td>\n",
       "      <td>187.828227</td>\n",
       "      <td>13.982297</td>\n",
       "      <td>0.069066</td>\n",
       "      <td>74.493700</td>\n",
       "      <td>0.0</td>\n",
       "      <td>1.0</td>\n",
       "      <td>1.0</td>\n",
       "    </tr>\n",
       "    <tr>\n",
       "      <th>...</th>\n",
       "      <td>...</td>\n",
       "      <td>...</td>\n",
       "      <td>...</td>\n",
       "      <td>...</td>\n",
       "      <td>...</td>\n",
       "      <td>...</td>\n",
       "      <td>...</td>\n",
       "      <td>...</td>\n",
       "      <td>...</td>\n",
       "      <td>...</td>\n",
       "    </tr>\n",
       "    <tr>\n",
       "      <th>87835</th>\n",
       "      <td>2022-04-17 23:18:50</td>\n",
       "      <td>194.3</td>\n",
       "      <td>0.000000</td>\n",
       "      <td>0.000000</td>\n",
       "      <td>13.560000</td>\n",
       "      <td>0.038462</td>\n",
       "      <td>84.923077</td>\n",
       "      <td>6.0</td>\n",
       "      <td>0.0</td>\n",
       "      <td>3.0</td>\n",
       "    </tr>\n",
       "    <tr>\n",
       "      <th>87836</th>\n",
       "      <td>2022-04-17 23:28:50</td>\n",
       "      <td>181.8</td>\n",
       "      <td>0.000000</td>\n",
       "      <td>0.000000</td>\n",
       "      <td>13.560000</td>\n",
       "      <td>0.038462</td>\n",
       "      <td>84.923077</td>\n",
       "      <td>6.0</td>\n",
       "      <td>0.0</td>\n",
       "      <td>3.0</td>\n",
       "    </tr>\n",
       "    <tr>\n",
       "      <th>87837</th>\n",
       "      <td>2022-04-17 23:38:50</td>\n",
       "      <td>209.7</td>\n",
       "      <td>0.000000</td>\n",
       "      <td>0.000000</td>\n",
       "      <td>13.560000</td>\n",
       "      <td>0.038462</td>\n",
       "      <td>84.923077</td>\n",
       "      <td>6.0</td>\n",
       "      <td>0.0</td>\n",
       "      <td>3.0</td>\n",
       "    </tr>\n",
       "    <tr>\n",
       "      <th>87838</th>\n",
       "      <td>2022-04-17 23:48:50</td>\n",
       "      <td>209.7</td>\n",
       "      <td>0.000000</td>\n",
       "      <td>0.000000</td>\n",
       "      <td>13.560000</td>\n",
       "      <td>0.038462</td>\n",
       "      <td>84.923077</td>\n",
       "      <td>6.0</td>\n",
       "      <td>0.0</td>\n",
       "      <td>3.0</td>\n",
       "    </tr>\n",
       "    <tr>\n",
       "      <th>87839</th>\n",
       "      <td>2022-04-17 23:58:50</td>\n",
       "      <td>209.7</td>\n",
       "      <td>0.000000</td>\n",
       "      <td>0.000000</td>\n",
       "      <td>13.560000</td>\n",
       "      <td>0.038462</td>\n",
       "      <td>84.923077</td>\n",
       "      <td>6.0</td>\n",
       "      <td>0.0</td>\n",
       "      <td>3.0</td>\n",
       "    </tr>\n",
       "  </tbody>\n",
       "</table>\n",
       "<p>26554 rows × 10 columns</p>\n",
       "</div>"
      ],
      "text/plain": [
       "                timestamp  value  pv_output  solar_radiation  temperature  \\\n",
       "61286 2021-10-04 15:17:15  530.5  16.403339       187.828227    13.982297   \n",
       "61287 2021-10-04 15:19:37  543.0  16.403339       187.828227    13.982297   \n",
       "61288 2021-10-04 15:29:38  520.7  16.403339       187.828227    13.982297   \n",
       "61289 2021-10-04 15:31:33  520.7  16.403339       187.828227    13.982297   \n",
       "61290 2021-10-04 15:39:38  491.5  16.403339       187.828227    13.982297   \n",
       "...                   ...    ...        ...              ...          ...   \n",
       "87835 2022-04-17 23:18:50  194.3   0.000000         0.000000    13.560000   \n",
       "87836 2022-04-17 23:28:50  181.8   0.000000         0.000000    13.560000   \n",
       "87837 2022-04-17 23:38:50  209.7   0.000000         0.000000    13.560000   \n",
       "87838 2022-04-17 23:48:50  209.7   0.000000         0.000000    13.560000   \n",
       "87839 2022-04-17 23:58:50  209.7   0.000000         0.000000    13.560000   \n",
       "\n",
       "         Precip   humidity  day_of_week  working_day  week_of_month  \n",
       "61286  0.069066  74.493700          0.0          1.0            1.0  \n",
       "61287  0.069066  74.493700          0.0          1.0            1.0  \n",
       "61288  0.069066  74.493700          0.0          1.0            1.0  \n",
       "61289  0.069066  74.493700          0.0          1.0            1.0  \n",
       "61290  0.069066  74.493700          0.0          1.0            1.0  \n",
       "...         ...        ...          ...          ...            ...  \n",
       "87835  0.038462  84.923077          6.0          0.0            3.0  \n",
       "87836  0.038462  84.923077          6.0          0.0            3.0  \n",
       "87837  0.038462  84.923077          6.0          0.0            3.0  \n",
       "87838  0.038462  84.923077          6.0          0.0            3.0  \n",
       "87839  0.038462  84.923077          6.0          0.0            3.0  \n",
       "\n",
       "[26554 rows x 10 columns]"
      ]
     },
     "execution_count": 16,
     "metadata": {},
     "output_type": "execute_result"
    }
   ],
   "source": [
    "dataset = Dataset(\"data/full_features.csv\")\n",
    "poweru = dataset[\"poweru\"]\n",
    "poweru\n"
   ]
  },
  {
   "cell_type": "code",
   "execution_count": 17,
   "metadata": {},
   "outputs": [
    {
     "data": {
      "text/plain": [
       "['pv_output',\n",
       " 'solar_radiation',\n",
       " 'temperature',\n",
       " 'Precip',\n",
       " 'humidity',\n",
       " 'day_of_week',\n",
       " 'working_day',\n",
       " 'week_of_month']"
      ]
     },
     "execution_count": 17,
     "metadata": {},
     "output_type": "execute_result"
    }
   ],
   "source": [
    "features = list(poweru.columns[2:])\n",
    "features\n"
   ]
  },
  {
   "cell_type": "code",
   "execution_count": 18,
   "metadata": {},
   "outputs": [],
   "source": [
    "train_data, x_test, y_test = dataset.split(poweru, 7)\n"
   ]
  },
  {
   "cell_type": "code",
   "execution_count": 21,
   "metadata": {},
   "outputs": [],
   "source": [
    "class Model:\n",
    "    def __init__(self, features, changepoint_prior_scale):\n",
    "        self.model = Prophet(changepoint_prior_scale=changepoint_prior_scale)\n",
    "        for feature in features:\n",
    "            self.model.add_regressor(feature)\n",
    "\n",
    "    def train(self, x):\n",
    "        self.model.fit(x)\n",
    "\n",
    "    def predict(self, x):\n",
    "        return self.model.predict(x)\n",
    "\n",
    "    def eval(self, label, pred):\n",
    "        mae = metrics.mean_absolute_error(label, pred[\"yhat\"])\n",
    "        rmse = metrics.mean_absolute_error(label, pred[\"yhat\"])\n",
    "        mape = metrics.mean_absolute_percentage_error(label, pred[\"yhat\"])\n",
    "        return mae, rmse, mape\n"
   ]
  },
  {
   "cell_type": "code",
   "execution_count": 22,
   "metadata": {},
   "outputs": [
    {
     "name": "stderr",
     "output_type": "stream",
     "text": [
      "17:26:07 - cmdstanpy - INFO - Chain [1] start processing\n",
      "17:26:58 - cmdstanpy - INFO - Chain [1] done processing\n"
     ]
    }
   ],
   "source": [
    "prophet_model = Model(features, 0.1)\n",
    "prophet_model.train(train_data)\n",
    "y_pred = prophet_model.predict(x_test)\n",
    "mae, rmse, mape = prophet_model.eval(y_test, y_pred)\n"
   ]
  },
  {
   "cell_type": "code",
   "execution_count": 23,
   "metadata": {},
   "outputs": [
    {
     "name": "stdout",
     "output_type": "stream",
     "text": [
      "MAE: 44.74326051014192\n",
      "RMSE: 44.74326051014192\n",
      "MAPE: 0.16991838792012506\n"
     ]
    }
   ],
   "source": [
    "print(\"MAE: {}\".format(mae))\n",
    "print(\"RMSE: {}\".format(rmse))\n",
    "print(\"MAPE: {}\".format(mape))\n"
   ]
  },
  {
   "cell_type": "code",
   "execution_count": null,
   "metadata": {},
   "outputs": [],
   "source": []
  }
 ],
 "metadata": {
  "kernelspec": {
   "display_name": "Python 3.8.10 ('.venv': poetry)",
   "language": "python",
   "name": "python3"
  },
  "language_info": {
   "codemirror_mode": {
    "name": "ipython",
    "version": 3
   },
   "file_extension": ".py",
   "mimetype": "text/x-python",
   "name": "python",
   "nbconvert_exporter": "python",
   "pygments_lexer": "ipython3",
   "version": "3.8.10"
  },
  "orig_nbformat": 4,
  "vscode": {
   "interpreter": {
    "hash": "7e8ac2604f2d8029406b03145d61cc46800226f7a492d9f726dcaaf79d4ca3cc"
   }
  }
 },
 "nbformat": 4,
 "nbformat_minor": 2
}
