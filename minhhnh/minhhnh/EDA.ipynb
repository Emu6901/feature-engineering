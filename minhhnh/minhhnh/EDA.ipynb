{
 "cells": [
  {
   "cell_type": "code",
   "execution_count": 1,
   "metadata": {},
   "outputs": [],
   "source": [
    "import pandas as pd\n",
    "import json\n",
    "import os\n"
   ]
  },
  {
   "cell_type": "code",
   "execution_count": 9,
   "metadata": {},
   "outputs": [],
   "source": [
    "def display_path(path):\n",
    "    return path.replace(\"\\\\\", \"/\")\n",
    "\n",
    "def concat_files(folder, func):\n",
    "    result = []\n",
    "    for year in os.listdir(folder):\n",
    "        for month in os.listdir(os.path.join(folder, year)):\n",
    "            for day in os.listdir(os.path.join(folder, year, month)):\n",
    "                for filename in os.listdir(os.path.join(folder, year, month, day)):\n",
    "                    df = func(\n",
    "                        display_path(os.path.join(folder, year, month, day, filename))\n",
    "                    )\n",
    "                    result.append(df)\n",
    "    return pd.concat(result)\n",
    "\n",
    "def get_weather(filename):\n",
    "    file = json.load(open(filename, \"rb\"))\n",
    "    values = file[\"results\"][0][\"values\"]\n",
    "    forecast_time = [value[\"forecast_time\"] for value in values]\n",
    "    weather = [value[\"weather\"][\"value\"] for value in values]\n",
    "    device_id = filename.split(\".\")[0].split(\"#\")[-1]\n",
    "    return pd.DataFrame(\n",
    "        {\n",
    "            \"device_id\": device_id,\n",
    "            \"forecast_time\": forecast_time,\n",
    "            \"weather\": weather,\n",
    "        }\n",
    "    )\n"
   ]
  },
  {
   "cell_type": "code",
   "execution_count": 14,
   "metadata": {},
   "outputs": [],
   "source": [
    "def get_humidity(filename):\n",
    "    file = json.load(open(filename, \"rb\"))\n",
    "    prodIdInfo = file[\"product\"][0]\n",
    "    forecasts = prodIdInfo[\"point\"][0][\"forecast\"]\n",
    "    forecast_time = [forecast[\"time\"] for forecast in forecasts]\n",
    "    Precip = [forecast[\"Precip\"][0] for forecast in forecasts]\n",
    "    humidity = [forecast[\"humidity\"][0] for forecast in forecasts]\n",
    "    return pd.DataFrame(\n",
    "        {\n",
    "            \"forecast_time\": forecast_time,\n",
    "            \"Precip\": Precip,\n",
    "            \"humidity\": humidity,\n",
    "        }\n",
    "    )\n"
   ]
  },
  {
   "cell_type": "code",
   "execution_count": 18,
   "metadata": {},
   "outputs": [],
   "source": [
    "def get_solar_pv_output(filename):\n",
    "    file = json.load(open(filename, \"rb\"))\n",
    "    values = file[\"results\"][0][\"values\"]\n",
    "    forecast_time = [value[\"forecast_time\"] for value in values]\n",
    "    pv_output = [value[\"pv_output\"][\"value\"] for value in values]\n",
    "    device_id = filename.split(\".\")[0].split(\"#\")[-1]\n",
    "    return pd.DataFrame(\n",
    "        {\n",
    "            \"device_id\": device_id,\n",
    "            \"forecast_time\": forecast_time,\n",
    "            \"pv_output\": pv_output,\n",
    "        }\n",
    "    )"
   ]
  },
  {
   "cell_type": "code",
   "execution_count": 21,
   "metadata": {},
   "outputs": [],
   "source": [
    "def get_solar_radiation(filename):\n",
    "    file = json.load(open(filename, \"rb\"))\n",
    "    values = file[\"results\"][0][\"values\"]\n",
    "    forecast_time = [value[\"forecast_time\"] for value in values]\n",
    "    solar_radiation = [value[\"solar_radiation\"][\"value\"] for value in values]\n",
    "    device_id = filename.split(\".\")[0].split(\"#\")[-1]\n",
    "    return pd.DataFrame(\n",
    "        {\n",
    "            \"device_id\": device_id,\n",
    "            \"forecast_time\": forecast_time,\n",
    "            \"solar_radiation\": solar_radiation,\n",
    "        }\n",
    "    )\n"
   ]
  },
  {
   "cell_type": "code",
   "execution_count": 24,
   "metadata": {},
   "outputs": [],
   "source": [
    "def get_temperature(filename):\n",
    "    file = json.load(open(filename, \"rb\"))\n",
    "    values = file[\"results\"][0][\"values\"]\n",
    "    forecast_time = [value[\"forecast_time\"] for value in values]\n",
    "    temperature = [value[\"temperature\"][\"value\"] for value in values]\n",
    "    device_id = filename.split(\".\")[0].split(\"#\")[-1]\n",
    "    return pd.DataFrame(\n",
    "        {\n",
    "            \"device_id\": device_id,\n",
    "            \"forecast_time\": forecast_time,\n",
    "            \"temperature\": temperature,\n",
    "        }\n",
    "    )"
   ]
  }
 ],
 "metadata": {
  "kernelspec": {
   "display_name": "Python 3.8.10 ('.venv': poetry)",
   "language": "python",
   "name": "python3"
  },
  "language_info": {
   "codemirror_mode": {
    "name": "ipython",
    "version": 3
   },
   "file_extension": ".py",
   "mimetype": "text/x-python",
   "name": "python",
   "nbconvert_exporter": "python",
   "pygments_lexer": "ipython3",
   "version": "3.8.10"
  },
  "orig_nbformat": 4,
  "vscode": {
   "interpreter": {
    "hash": "c7b95a71774a5312bf48d3899d749fb8a6b368be6dd80818f16543282209664e"
   }
  }
 },
 "nbformat": 4,
 "nbformat_minor": 2
}
